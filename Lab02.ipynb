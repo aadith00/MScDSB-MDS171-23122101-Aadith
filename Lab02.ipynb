{
 "cells": [
  {
   "cell_type": "code",
   "execution_count": 1,
   "metadata": {},
   "outputs": [
    {
     "name": "stdout",
     "output_type": "stream",
     "text": [
      "FourFiveSix\n"
     ]
    }
   ],
   "source": [
    "def convert(number):\n",
    "    word = \"\"\n",
    "    for i in range (0 , len(number)):\n",
    "        if number[i] == '0':\n",
    "            word = word + 'Zero'\n",
    "        elif number[i] == '1':\n",
    "            word = word + 'One'\n",
    "        elif number[i] == '2':\n",
    "            word = word + 'Two'\n",
    "        elif number[i] == '3':\n",
    "            word = word + 'Three'\n",
    "        elif number[i] == '4':\n",
    "            word = word + 'Four'\n",
    "        elif number[i] == '5':\n",
    "            word = word + 'Five'\n",
    "        elif number[i] == '6':\n",
    "            word = word + 'Six'\n",
    "        elif number[i] == '7':\n",
    "            word = word + 'Seven'\n",
    "        elif number[i] == '8':\n",
    "            word = word + 'Eight'\n",
    "        elif number[i] == '9':\n",
    "            word = word + 'Nine'\n",
    "        else:\n",
    "            break\n",
    "    \n",
    "    print(word)\n",
    "\n",
    "number = input('Enter a number: ')\n",
    "convert(number)"
   ]
  },
  {
   "cell_type": "code",
   "execution_count": null,
   "metadata": {},
   "outputs": [],
   "source": []
  }
 ],
 "metadata": {
  "kernelspec": {
   "display_name": "Python 3",
   "language": "python",
   "name": "python3"
  },
  "language_info": {
   "codemirror_mode": {
    "name": "ipython",
    "version": 3
   },
   "file_extension": ".py",
   "mimetype": "text/x-python",
   "name": "python",
   "nbconvert_exporter": "python",
   "pygments_lexer": "ipython3",
   "version": "3.11.0"
  },
  "orig_nbformat": 4
 },
 "nbformat": 4,
 "nbformat_minor": 2
}
