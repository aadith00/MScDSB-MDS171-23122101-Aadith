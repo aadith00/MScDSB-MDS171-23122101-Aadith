{
 "cells": [
  {
   "cell_type": "code",
   "execution_count": 15,
   "metadata": {},
   "outputs": [
    {
     "ename": "UnboundLocalError",
     "evalue": "cannot access local variable 'word' where it is not associated with a value",
     "output_type": "error",
     "traceback": [
      "\u001b[1;31m---------------------------------------------------------------------------\u001b[0m",
      "\u001b[1;31mUnboundLocalError\u001b[0m                         Traceback (most recent call last)",
      "Cell \u001b[1;32mIn[15], line 28\u001b[0m\n\u001b[0;32m     24\u001b[0m             word \u001b[39m+\u001b[39m\u001b[39m=\u001b[39m \u001b[39m'\u001b[39m\u001b[39mNine\u001b[39m\u001b[39m'\u001b[39m\n\u001b[0;32m     26\u001b[0m     \u001b[39mprint\u001b[39m(word)\n\u001b[1;32m---> 28\u001b[0m convert(number)\n",
      "Cell \u001b[1;32mIn[15], line 26\u001b[0m, in \u001b[0;36mconvert\u001b[1;34m(number)\u001b[0m\n\u001b[0;32m     23\u001b[0m     \u001b[39melse\u001b[39;00m:\n\u001b[0;32m     24\u001b[0m         word \u001b[39m+\u001b[39m\u001b[39m=\u001b[39m \u001b[39m'\u001b[39m\u001b[39mNine\u001b[39m\u001b[39m'\u001b[39m\n\u001b[1;32m---> 26\u001b[0m \u001b[39mprint\u001b[39m(word)\n",
      "\u001b[1;31mUnboundLocalError\u001b[0m: cannot access local variable 'word' where it is not associated with a value"
     ]
    }
   ],
   "source": [
    "def convert(number):\n",
    "    number = \"\"\n",
    "    for i in range (0 , len(number)):\n",
    "        if number[i] == 0:\n",
    "            word += 'Zero'\n",
    "        elif number[i] == 1:\n",
    "            word += 'One'\n",
    "        elif number[i] == 2:\n",
    "            word += 'Two'\n",
    "        elif number[i] == 3:\n",
    "            word += 'Three'\n",
    "        elif number[i] == 4:\n",
    "            word += 'Four'\n",
    "        elif number[i] == 5:\n",
    "            word += 'Five'\n",
    "        elif number[i] == 6:\n",
    "            word =+ 'Six'\n",
    "        elif number[i] == 7:\n",
    "            word =+ 'Seven'\n",
    "        elif number[i] == 8:\n",
    "            word += 'Eight'\n",
    "        else:\n",
    "            word += 'Nine'\n",
    "    \n",
    "    print(word)\n",
    "\n",
    "convert(number)"
   ]
  },
  {
   "cell_type": "code",
   "execution_count": null,
   "metadata": {},
   "outputs": [],
   "source": []
  }
 ],
 "metadata": {
  "kernelspec": {
   "display_name": "Python 3",
   "language": "python",
   "name": "python3"
  },
  "language_info": {
   "codemirror_mode": {
    "name": "ipython",
    "version": 3
   },
   "file_extension": ".py",
   "mimetype": "text/x-python",
   "name": "python",
   "nbconvert_exporter": "python",
   "pygments_lexer": "ipython3",
   "version": "3.11.0"
  },
  "orig_nbformat": 4
 },
 "nbformat": 4,
 "nbformat_minor": 2
}
