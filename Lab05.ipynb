{
 "cells": [
  {
   "cell_type": "code",
   "execution_count": 26,
   "metadata": {},
   "outputs": [
    {
     "name": "stdout",
     "output_type": "stream",
     "text": [
      "The string entered is:  Hello to you\n",
      "The number of vowels in the given string are:  5\n",
      "The percentage of vowels in the string is:  41.666666666666664\n"
     ]
    }
   ],
   "source": [
    "vowels = ['a' , 'e' , 'i' , 'o' , 'u' , 'A' , 'E' , 'I' , 'O' , 'U']\n",
    "count = 0\n",
    "word = input('Enter a string: ')       #Take user input for the sentence\n",
    "\n",
    "for letter in word:                    #Check if each letter of the sentence is a vowel or not\n",
    "    if letter in vowels:\n",
    "        count = count + 1\n",
    "\n",
    "percentage = count*100 / len(word)     #Calculate the percentage of vowels in the sentence\n",
    "\n",
    "print('The string entered is: ', word)\n",
    "print('The number of vowels in the given string are: ' , count)\n",
    "print('The percentage of vowels in the string is: ' , percentage)\n"
   ]
  }
 ],
 "metadata": {
  "kernelspec": {
   "display_name": "Python 3",
   "language": "python",
   "name": "python3"
  },
  "language_info": {
   "codemirror_mode": {
    "name": "ipython",
    "version": 3
   },
   "file_extension": ".py",
   "mimetype": "text/x-python",
   "name": "python",
   "nbconvert_exporter": "python",
   "pygments_lexer": "ipython3",
   "version": "3.11.0"
  },
  "orig_nbformat": 4
 },
 "nbformat": 4,
 "nbformat_minor": 2
}
