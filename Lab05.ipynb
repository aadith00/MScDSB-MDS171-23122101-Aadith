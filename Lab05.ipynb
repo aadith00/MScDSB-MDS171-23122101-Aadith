{
 "cells": [
  {
   "cell_type": "code",
   "execution_count": 1,
   "metadata": {},
   "outputs": [
    {
     "name": "stdout",
     "output_type": "stream",
     "text": [
      "Total number of vowels is 7\n",
      "Number of a is 3\n",
      "Number of e is 2\n",
      "Number of i is 1\n",
      "Number of o is 1\n",
      "20\n"
     ]
    },
    {
     "ename": "NameError",
     "evalue": "name 'count' is not defined",
     "output_type": "error",
     "traceback": [
      "\u001b[1;31m---------------------------------------------------------------------------\u001b[0m",
      "\u001b[1;31mNameError\u001b[0m                                 Traceback (most recent call last)",
      "\u001b[1;32mc:\\Users\\maadi\\OneDrive\\Desktop\\GIT\\MScDSB-MDS171-23122101-Aadith\\Lab05.ipynb Cell 1\u001b[0m line \u001b[0;36m5\n\u001b[0;32m     <a href='vscode-notebook-cell:/c%3A/Users/maadi/OneDrive/Desktop/GIT/MScDSB-MDS171-23122101-Aadith/Lab05.ipynb#W0sZmlsZQ%3D%3D?line=53'>54</a>\u001b[0m vowel_count(string)\n\u001b[0;32m     <a href='vscode-notebook-cell:/c%3A/Users/maadi/OneDrive/Desktop/GIT/MScDSB-MDS171-23122101-Aadith/Lab05.ipynb#W0sZmlsZQ%3D%3D?line=54'>55</a>\u001b[0m counting(string)\n\u001b[1;32m---> <a href='vscode-notebook-cell:/c%3A/Users/maadi/OneDrive/Desktop/GIT/MScDSB-MDS171-23122101-Aadith/Lab05.ipynb#W0sZmlsZQ%3D%3D?line=55'>56</a>\u001b[0m percnt(string)\n",
      "\u001b[1;32mc:\\Users\\maadi\\OneDrive\\Desktop\\GIT\\MScDSB-MDS171-23122101-Aadith\\Lab05.ipynb Cell 1\u001b[0m line \u001b[0;36m5\n\u001b[0;32m     <a href='vscode-notebook-cell:/c%3A/Users/maadi/OneDrive/Desktop/GIT/MScDSB-MDS171-23122101-Aadith/Lab05.ipynb#W0sZmlsZQ%3D%3D?line=48'>49</a>\u001b[0m \u001b[39mdef\u001b[39;00m \u001b[39mpercnt\u001b[39m(p):\n\u001b[0;32m     <a href='vscode-notebook-cell:/c%3A/Users/maadi/OneDrive/Desktop/GIT/MScDSB-MDS171-23122101-Aadith/Lab05.ipynb#W0sZmlsZQ%3D%3D?line=49'>50</a>\u001b[0m     \u001b[39mprint\u001b[39m(\u001b[39mlen\u001b[39m(string))\n\u001b[1;32m---> <a href='vscode-notebook-cell:/c%3A/Users/maadi/OneDrive/Desktop/GIT/MScDSB-MDS171-23122101-Aadith/Lab05.ipynb#W0sZmlsZQ%3D%3D?line=50'>51</a>\u001b[0m     percnt\u001b[39m=\u001b[39m(count\u001b[39m/\u001b[39m\u001b[39mlen\u001b[39m(string))\u001b[39m*\u001b[39m\u001b[39m100\u001b[39m\n\u001b[0;32m     <a href='vscode-notebook-cell:/c%3A/Users/maadi/OneDrive/Desktop/GIT/MScDSB-MDS171-23122101-Aadith/Lab05.ipynb#W0sZmlsZQ%3D%3D?line=51'>52</a>\u001b[0m     \u001b[39mprint\u001b[39m(\u001b[39m\"\u001b[39m\u001b[39mThe percentage of vowels in the string is\u001b[39m\u001b[39m\"\u001b[39m,percnt)\n",
      "\u001b[1;31mNameError\u001b[0m: name 'count' is not defined"
     ]
    }
   ],
   "source": [
    "string=input(\"Enter a string:\")\n",
    "string=string.lower()\n",
    "string=string.strip()\n",
    "\n",
    "#counting total number of vowels\n",
    "def vowel_count(string):\n",
    "    count=0\n",
    "    for i in string:\n",
    "        if i=='a':\n",
    "            count=count+1\n",
    "        elif i=='e':\n",
    "            count=count+1\n",
    "        elif i=='i':\n",
    "            count=count+1\n",
    "        elif i=='o':\n",
    "            count=count+1\n",
    "        elif i=='u':\n",
    "            count=count+1\n",
    "        else:\n",
    "            continue\n",
    "    print(\"Total number of vowels is\",count)\n",
    "\n",
    "#printing and counting each vowels  \n",
    "name_list=[]\n",
    "def counting(l):\n",
    "    for i in string:\n",
    "        if i=='a':\n",
    "            name_list.append(i)\n",
    "        elif i=='e':\n",
    "            name_list.append(i)\n",
    "        elif i=='i':  \n",
    "            name_list.append(i)\n",
    "        elif i=='o':   \n",
    "            name_list.append(i)\n",
    "        elif i=='u':    \n",
    "            name_list.append(i)\n",
    "        else:\n",
    "            continue\n",
    "\n",
    "    set_list=set(name_list)\n",
    "    for unique in set_list:\n",
    "        vcount=0\n",
    "        for j in name_list:\n",
    "            if unique==j:\n",
    "                vcount=vcount+1\n",
    "        print(\"Number of\",unique,\"is\",vcount)\n",
    "\n",
    "#calculating percentage of vowels\n",
    "def percnt(p):\n",
    "    print(len(string))\n",
    "    percnt=(vcount/len(string))*100\n",
    "    print(\"The percentage of vowels in the string is\",percnt)\n",
    "\n",
    "vowel_count(string)\n",
    "counting(string)\n",
    "percnt(string)"
   ]
  }
 ],
 "metadata": {
  "kernelspec": {
   "display_name": "Python 3",
   "language": "python",
   "name": "python3"
  },
  "language_info": {
   "codemirror_mode": {
    "name": "ipython",
    "version": 3
   },
   "file_extension": ".py",
   "mimetype": "text/x-python",
   "name": "python",
   "nbconvert_exporter": "python",
   "pygments_lexer": "ipython3",
   "version": "3.11.0"
  },
  "orig_nbformat": 4
 },
 "nbformat": 4,
 "nbformat_minor": 2
}
