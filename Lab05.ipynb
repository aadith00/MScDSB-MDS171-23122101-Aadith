{
 "cells": [
  {
   "cell_type": "code",
   "execution_count": null,
   "metadata": {},
   "outputs": [],
   "source": []
  },
  {
   "cell_type": "code",
   "execution_count": 11,
   "metadata": {},
   "outputs": [
    {
     "name": "stdout",
     "output_type": "stream",
     "text": [
      "Total number of vowels is 5\n",
      "The vowels are {'o', 'i', 'a', 'e', 'u'}\n",
      "Number of o is 1\n",
      "Number of i is 1\n",
      "Number of a is 1\n",
      "Number of e is 1\n",
      "Number of u is 1\n",
      "The percentage of vowels in the string is 100.0\n"
     ]
    }
   ],
   "source": [
    "string=input(\"Enter a string:\")\n",
    "string=string.lower()\n",
    "\n",
    "# counting total number of vowels\n",
    "def  vowels(s):\n",
    "    global count\n",
    "    count=0\n",
    "    for i in string:\n",
    "        if i == 'a':\n",
    "            count=count+1\n",
    "        elif i == 'e':\n",
    "            count=count+1\n",
    "        elif i == 'i':\n",
    "            count=count+1\n",
    "        elif i == 'o':\n",
    "            count=count+1\n",
    "        elif i == 'u':\n",
    "            count = count+1\n",
    "        else:\n",
    "            continue\n",
    "    print(\"Total number of vowels is\",count)\n",
    "\n",
    "#printing and counting each vowels  \n",
    "name_lst = []\n",
    "def counting(l):\n",
    "    for i in string:\n",
    "        if i == 'a':\n",
    "            name_lst.append(i)\n",
    "        elif i == 'e':\n",
    "            name_lst.append(i)\n",
    "        elif i == 'i':  \n",
    "            name_lst.append(i)\n",
    "        elif i == 'o':   \n",
    "            name_lst.append(i)\n",
    "        elif i == 'u':    \n",
    "            name_lst.append(i)\n",
    "        else:\n",
    "            continue\n",
    "    \n",
    "\n",
    "    set_lst = set(name_lst)\n",
    "    print(\"The vowels are\",set_lst)\n",
    "    for unique in set_lst:\n",
    "        vcount=0\n",
    "        for j in name_lst:\n",
    "            if unique == j:\n",
    "                vcount = vcount+1\n",
    "        print(\"Number of\",unique,\"is\",vcount)\n",
    "\n",
    "#calculating percentage of vowels\n",
    "def perc(p):\n",
    "    perc=(count/len(string))*100\n",
    "    print(\"The percentage of vowels in the string is\",perc)\n",
    "\n",
    "#calling all functions\n",
    "vowels(string)\n",
    "counting(string)\n",
    "perc(string)"
   ]
  }
 ],
 "metadata": {
  "kernelspec": {
   "display_name": "Python 3",
   "language": "python",
   "name": "python3"
  },
  "language_info": {
   "codemirror_mode": {
    "name": "ipython",
    "version": 3
   },
   "file_extension": ".py",
   "mimetype": "text/x-python",
   "name": "python",
   "nbconvert_exporter": "python",
   "pygments_lexer": "ipython3",
   "version": "3.11.0"
  },
  "orig_nbformat": 4
 },
 "nbformat": 4,
 "nbformat_minor": 2
}
