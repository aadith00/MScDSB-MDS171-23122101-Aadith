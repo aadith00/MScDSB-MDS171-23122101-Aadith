{
 "cells": [
  {
   "cell_type": "code",
   "execution_count": null,
   "metadata": {},
   "outputs": [],
   "source": [
    "#Take the input for customer details using function.\n",
    "\n",
    "def details(name_of_customer, order, quant, rate):\n",
    "\n",
    "        file = open('Grocery Store Management System', 'w+')\n",
    "        file.write('Welcome to Grocery Store Management System.')\n",
    "\n",
    "        file.write('\\nName: ' + name_of_customer)\n",
    "        file.write('\\nOrder: ' + order)\n",
    "        file.write('\\nQuantity: ' + quant)\n",
    "        file.write('\\nRate: ' + rate)\n",
    "        file.close()\n",
    "                \n",
    "\n",
    "        name_of_customer = input('Enter customer name: ')\n",
    "        order = input('Enter customer order: ')\n",
    "        quant = input('Enter the number of products needed: ')\n",
    "        rate = input('Enter the price of the product: ')\n",
    "\n",
    "        return True\n",
    "\n",
    "details(name_of_customer, order, quant, rate)"
   ]
  }
 ],
 "metadata": {
  "language_info": {
   "name": "python"
  },
  "orig_nbformat": 4
 },
 "nbformat": 4,
 "nbformat_minor": 2
}
