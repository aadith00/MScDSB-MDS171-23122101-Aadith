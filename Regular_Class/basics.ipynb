{
 "cells": [
  {
   "cell_type": "code",
   "execution_count": 1,
   "metadata": {},
   "outputs": [
    {
     "name": "stdout",
     "output_type": "stream",
     "text": [
      "Hello\n",
      "15\n"
     ]
    }
   ],
   "source": [
    "print('Hello')\n",
    "msg = 15\n",
    "print(msg)"
   ]
  },
  {
   "cell_type": "code",
   "execution_count": 4,
   "metadata": {},
   "outputs": [
    {
     "name": "stdout",
     "output_type": "stream",
     "text": [
      "One\n"
     ]
    }
   ],
   "source": [
    "a = 1\n",
    "if a == 5:\n",
    "    print('Five')\n",
    "elif a == 1:\n",
    "    print('One')\n",
    "else:\n",
    "    print('Value is not five.')"
   ]
  },
  {
   "cell_type": "code",
   "execution_count": 9,
   "metadata": {},
   "outputs": [
    {
     "name": "stdout",
     "output_type": "stream",
     "text": [
      "Thu\n"
     ]
    }
   ],
   "source": [
    "#Based on the user input print the corresponding day of the week\n",
    "\n",
    "n = int(input('Enter a number within 1 to 7: '))\n",
    "\n",
    "if n == 1:\n",
    "    print('Sun')\n",
    "elif n == 2:\n",
    "    print('Mon')\n",
    "elif n == 3:\n",
    "    print('Tues')\n",
    "elif n == 4:\n",
    "    print('Wed')\n",
    "elif n == 5:\n",
    "    print('Thu')\n",
    "elif n == 6:\n",
    "    print('Fri')\n",
    "elif n == 7:\n",
    "    print('Sat')\n",
    "else:\n",
    "    print('Not a valid input')\n"
   ]
  },
  {
   "cell_type": "code",
   "execution_count": 16,
   "metadata": {},
   "outputs": [
    {
     "name": "stdout",
     "output_type": "stream",
     "text": [
      "a\n",
      "10\n"
     ]
    }
   ],
   "source": [
    "msg = 'poda manda'\n",
    "print(msg[6])\n",
    "print(len(msg))\n",
    "#Indexing starts from 0"
   ]
  },
  {
   "cell_type": "code",
   "execution_count": 17,
   "metadata": {},
   "outputs": [
    {
     "name": "stdout",
     "output_type": "stream",
     "text": [
      "p\n",
      "o\n",
      "d\n",
      "a\n",
      " \n",
      "m\n",
      "a\n",
      "n\n",
      "d\n",
      "a\n"
     ]
    }
   ],
   "source": [
    "for i in msg:\n",
    "    print(i)\n"
   ]
  },
  {
   "cell_type": "code",
   "execution_count": 20,
   "metadata": {},
   "outputs": [
    {
     "data": {
      "text/plain": [
       "'PODA MANDA'"
      ]
     },
     "execution_count": 20,
     "metadata": {},
     "output_type": "execute_result"
    }
   ],
   "source": [
    "msg.upper()\n"
   ]
  },
  {
   "cell_type": "code",
   "execution_count": 22,
   "metadata": {},
   "outputs": [
    {
     "name": "stdout",
     "output_type": "stream",
     "text": [
      "12\n",
      "3\n"
     ]
    }
   ],
   "source": [
    "name = '     abc    '\n",
    "print(len(name))\n",
    "print(len(name.strip()))\n",
    "#strip fuction will only remove spaces from the start and end of a string"
   ]
  },
  {
   "cell_type": "markdown",
   "metadata": {},
   "source": [
    "\\t is used to get tab space\n",
    "\\n is used to get the output in the new line"
   ]
  },
  {
   "cell_type": "code",
   "execution_count": 23,
   "metadata": {},
   "outputs": [
    {
     "name": "stdout",
     "output_type": "stream",
     "text": [
      "    abc    \n",
      "djhcvmav\tdjshgjshd\n"
     ]
    }
   ],
   "source": [
    "name = '    abc    \\ndjhcvmav\\tdjshgjshd'\n",
    "print(name)"
   ]
  },
  {
   "cell_type": "code",
   "execution_count": 43,
   "metadata": {},
   "outputs": [
    {
     "name": "stdout",
     "output_type": "stream",
     "text": [
      "['5', '2', '3', '1', '4', '8', '5', '4', '5', '2', '6', '8', '4', '2', '5']\n",
      "64\n"
     ]
    }
   ],
   "source": [
    "numbers = '5,2,3,1,4,8,5,4,5,2,6,8,4,2,5'\n",
    "nos = numbers.split(',')\n",
    "print(nos)\n",
    "sum = 0\n",
    "for item in nos:\n",
    "    sum += int(item)\n",
    "print(sum)"
   ]
  },
  {
   "cell_type": "code",
   "execution_count": 45,
   "metadata": {},
   "outputs": [
    {
     "name": "stdout",
     "output_type": "stream",
     "text": [
      "Your username is: Aadith and password is poda\n"
     ]
    }
   ],
   "source": [
    "name = input('Enter your name: ')\n",
    "password = input('Enter your password: ')\n",
    "\n",
    "print('Your username is: {} and password is {}'.format(name,password))"
   ]
  },
  {
   "cell_type": "code",
   "execution_count": 1,
   "metadata": {},
   "outputs": [
    {
     "name": "stdout",
     "output_type": "stream",
     "text": [
      "['one', 'two', 'three', 'four']\n"
     ]
    }
   ],
   "source": [
    "listex = ['one' , 'two' , 'three' , 'four']\n",
    "print(listex)"
   ]
  },
  {
   "cell_type": "code",
   "execution_count": 1,
   "metadata": {},
   "outputs": [
    {
     "ename": "NameError",
     "evalue": "name 'listex' is not defined",
     "output_type": "error",
     "traceback": [
      "\u001b[1;31m---------------------------------------------------------------------------\u001b[0m",
      "\u001b[1;31mNameError\u001b[0m                                 Traceback (most recent call last)",
      "\u001b[1;32mc:\\Users\\maadi\\Python programming\\basics.ipynb Cell 13\u001b[0m line \u001b[0;36m1\n\u001b[1;32m----> <a href='vscode-notebook-cell:/c%3A/Users/maadi/Python%20programming/basics.ipynb#X15sZmlsZQ%3D%3D?line=0'>1</a>\u001b[0m \u001b[39mprint\u001b[39m(listex[\u001b[39m2\u001b[39m])\n",
      "\u001b[1;31mNameError\u001b[0m: name 'listex' is not defined"
     ]
    }
   ],
   "source": [
    "print(listex[2])"
   ]
  },
  {
   "cell_type": "code",
   "execution_count": 6,
   "metadata": {},
   "outputs": [
    {
     "name": "stdout",
     "output_type": "stream",
     "text": [
      "['one', 'two', 'three', 'four', 'five', 'five']\n"
     ]
    }
   ],
   "source": [
    "listex.append('five')\n",
    "print(listex)"
   ]
  },
  {
   "cell_type": "code",
   "execution_count": 9,
   "metadata": {},
   "outputs": [
    {
     "name": "stdout",
     "output_type": "stream",
     "text": [
      "['one', 'two', 'three', 'four', 'five']\n"
     ]
    }
   ],
   "source": [
    "listex.pop\n",
    "print(listex)"
   ]
  },
  {
   "cell_type": "code",
   "execution_count": 12,
   "metadata": {},
   "outputs": [
    {
     "name": "stdout",
     "output_type": "stream",
     "text": [
      "['one', 'two', 'five']\n"
     ]
    }
   ],
   "source": [
    "listex.pop(2)\n",
    "print(listex)"
   ]
  },
  {
   "cell_type": "code",
   "execution_count": 13,
   "metadata": {},
   "outputs": [],
   "source": [
    "listex.remove(\"one\")"
   ]
  },
  {
   "cell_type": "code",
   "execution_count": 14,
   "metadata": {},
   "outputs": [
    {
     "data": {
      "text/plain": [
       "['two', 'five']"
      ]
     },
     "execution_count": 14,
     "metadata": {},
     "output_type": "execute_result"
    }
   ],
   "source": [
    "listex"
   ]
  },
  {
   "cell_type": "code",
   "execution_count": 15,
   "metadata": {},
   "outputs": [
    {
     "data": {
      "text/plain": [
       "2"
      ]
     },
     "execution_count": 15,
     "metadata": {},
     "output_type": "execute_result"
    }
   ],
   "source": [
    "len(listex)"
   ]
  },
  {
   "cell_type": "markdown",
   "metadata": {},
   "source": [
    "sort() reverse() these r some of the methods available for a list"
   ]
  },
  {
   "cell_type": "code",
   "execution_count": 16,
   "metadata": {},
   "outputs": [
    {
     "name": "stdout",
     "output_type": "stream",
     "text": [
      "['five', 'two']\n"
     ]
    }
   ],
   "source": [
    "listex.sort()\n",
    "print(listex)"
   ]
  },
  {
   "cell_type": "code",
   "execution_count": 17,
   "metadata": {},
   "outputs": [
    {
     "name": "stdout",
     "output_type": "stream",
     "text": [
      "['two', 'five']\n"
     ]
    }
   ],
   "source": [
    "listex.reverse()\n",
    "print(listex)"
   ]
  },
  {
   "cell_type": "markdown",
   "metadata": {},
   "source": [
    "FUNCTIONS"
   ]
  },
  {
   "cell_type": "code",
   "execution_count": 18,
   "metadata": {},
   "outputs": [
    {
     "name": "stdout",
     "output_type": "stream",
     "text": [
      "I am your first function.\n"
     ]
    }
   ],
   "source": [
    "def fname():\n",
    "    print('I am your first function.')\n",
    "    return\n",
    "\n",
    "fname()"
   ]
  },
  {
   "cell_type": "code",
   "execution_count": 19,
   "metadata": {},
   "outputs": [
    {
     "name": "stdout",
     "output_type": "stream",
     "text": [
      "I am your first function.\n",
      "Success\n"
     ]
    }
   ],
   "source": [
    "def fname():\n",
    "    print('I am your first function.')\n",
    "    retVat = 'Success'\n",
    "    return retVat\n",
    "\n",
    "status = fname()\n",
    "print(status)"
   ]
  },
  {
   "cell_type": "code",
   "execution_count": 21,
   "metadata": {},
   "outputs": [
    {
     "name": "stdout",
     "output_type": "stream",
     "text": [
      "I am your first function.\n",
      "Success True\n"
     ]
    }
   ],
   "source": [
    "def fname():\n",
    "    print('I am your first function.')\n",
    "    retVat = 'Success'\n",
    "    return retVat, True\n",
    "\n",
    "status, flag = fname()\n",
    "print(status, flag)"
   ]
  },
  {
   "cell_type": "code",
   "execution_count": 22,
   "metadata": {},
   "outputs": [
    {
     "name": "stdout",
     "output_type": "stream",
     "text": [
      "I am your first function. Aadith\n",
      "Success True\n"
     ]
    }
   ],
   "source": [
    "def fname(n):\n",
    "    print('I am your first function.' , n)\n",
    "    retVat = 'Success'\n",
    "    return retVat , True\n",
    "\n",
    "name = 'Aadith'\n",
    "status , flag = fname(name)\n",
    "print(status , flag)"
   ]
  },
  {
   "cell_type": "markdown",
   "metadata": {},
   "source": [
    "write a func to intake list as user input and return the sum of the numbers"
   ]
  },
  {
   "cell_type": "code",
   "execution_count": 16,
   "metadata": {},
   "outputs": [
    {
     "name": "stdout",
     "output_type": "stream",
     "text": [
      "[4, 5, 15, 5, 5]\n"
     ]
    },
    {
     "data": {
      "text/plain": [
       "34"
      ]
     },
     "execution_count": 16,
     "metadata": {},
     "output_type": "execute_result"
    }
   ],
   "source": [
    "n = int(input('Enter the number of items in list: '))\n",
    "lst = []\n",
    "for i in range (0, n):\n",
    "    item = int(input('Enter the number: '))\n",
    "    lst.append(item)\n",
    "\n",
    "print(lst)\n",
    "\n",
    "def list_sum(lst):\n",
    "    sum = 0\n",
    "    for item in lst:\n",
    "        sum += item\n",
    "    return sum\n",
    "\n",
    "list_sum(lst)"
   ]
  },
  {
   "cell_type": "code",
   "execution_count": 11,
   "metadata": {},
   "outputs": [
    {
     "name": "stdout",
     "output_type": "stream",
     "text": [
      "5\n",
      "7\n",
      "5\n",
      "8\n",
      "9\n",
      "3\n",
      "1\n"
     ]
    }
   ],
   "source": [
    "for item in lst:\n",
    "    print(item)"
   ]
  },
  {
   "cell_type": "code",
   "execution_count": 10,
   "metadata": {},
   "outputs": [
    {
     "name": "stdout",
     "output_type": "stream",
     "text": [
      "5\n",
      "7\n",
      "5\n",
      "8\n",
      "9\n",
      "3\n",
      "1\n"
     ]
    }
   ],
   "source": [
    "for item in range(0, len(lst), 1):\n",
    "    print(lst[item])"
   ]
  },
  {
   "cell_type": "markdown",
   "metadata": {},
   "source": [
    "Count the number of odd and even numbers in the list and print the odd and even numbers count and numbers."
   ]
  },
  {
   "cell_type": "code",
   "execution_count": 14,
   "metadata": {},
   "outputs": [
    {
     "name": "stdout",
     "output_type": "stream",
     "text": [
      "[13, 5]\n",
      "[12, 14, 14]\n",
      "3\n",
      "2\n"
     ]
    }
   ],
   "source": [
    "n = int(input('Enter the number of items in list: '))\n",
    "lst = []\n",
    "for i in range (0, n):\n",
    "    item = int(input('Enter the number: '))\n",
    "    lst.append(item)\n",
    "\n",
    "odd_list = []\n",
    "even_list = []\n",
    "\n",
    "def sort(lst):\n",
    "    for item in lst:\n",
    "        if item % 2 == 0:\n",
    "            even_list.append(item)\n",
    "        else:\n",
    "            odd_list.append(item)\n",
    "    print(odd_list)\n",
    "    print(even_list)\n",
    "\n",
    "sort(lst)\n",
    "\n",
    "count_even = len(even_list)\n",
    "count_odd = len(odd_list)\n",
    "    \n",
    "\n",
    "print('The number of even numbers are: ' , count_even)\n",
    "print('The number of odd numbers are: ' , count_odd)"
   ]
  }
 ],
 "metadata": {
  "kernelspec": {
   "display_name": "Python 3",
   "language": "python",
   "name": "python3"
  },
  "language_info": {
   "codemirror_mode": {
    "name": "ipython",
    "version": 3
   },
   "file_extension": ".py",
   "mimetype": "text/x-python",
   "name": "python",
   "nbconvert_exporter": "python",
   "pygments_lexer": "ipython3",
   "version": "3.11.0"
  },
  "orig_nbformat": 4
 },
 "nbformat": 4,
 "nbformat_minor": 2
}
