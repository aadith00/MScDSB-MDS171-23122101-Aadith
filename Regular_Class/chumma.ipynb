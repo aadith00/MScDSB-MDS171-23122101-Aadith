{
 "cells": [
  {
   "cell_type": "code",
   "execution_count": 1,
   "metadata": {},
   "outputs": [],
   "source": [
    "def entry(name,age):\n",
    "    \n",
    "    name = str(input('Enter your name: '))\n",
    "    age = str(input('Enter your age: '))\n",
    "\n",
    "    filename = name + '.txt'\n"
   ]
  },
  {
   "cell_type": "code",
   "execution_count": 3,
   "metadata": {},
   "outputs": [
    {
     "name": "stdout",
     "output_type": "stream",
     "text": [
      "['name: Devu\\n', 'age: 21']\n"
     ]
    }
   ],
   "source": [
    "def entry(name,age):\n",
    "    \n",
    "    name = str(input(\"Enter the name: \"))\n",
    "    age = str(input(\"Enter the age: \"))\n",
    "    filename = name + \".txt\"\n",
    "\n",
    "    file = open(filename,\"w+\")\n",
    "    file.write(\"name: \"+name)\n",
    "    file.write(\"\\nage: \"+age)\n",
    "    file.close()\n",
    "    \n",
    "    file = open(filename,\"r+\")\n",
    "    a = file.readlines()\n",
    "    print(a)\n",
    "    \n",
    "entry(\"devika\",21)"
   ]
  },
  {
   "cell_type": "code",
   "execution_count": 6,
   "metadata": {},
   "outputs": [
    {
     "name": "stdout",
     "output_type": "stream",
     "text": [
      "['x', 'y', 'x', 'x', 'z', 'z', 'z', 'y', 'x']\n",
      "z 3\n",
      "y 2\n",
      "x 4\n"
     ]
    }
   ],
   "source": [
    "name_list = []\n",
    "\n",
    "n = int(input('Enter the total number of names: '))\n",
    "\n",
    "for i in range(0,n):\n",
    "    name = input('Enter names: ')\n",
    "    name_list.append(name)\n",
    "print(name_list)\n",
    "\n",
    "single = set(name_list)\n",
    "\n",
    "for item in single:\n",
    "    count = 0\n",
    "    for i in name_list:\n",
    "        if i == item:\n",
    "            count = count + 1\n",
    "    print(item,count)"
   ]
  },
  {
   "cell_type": "code",
   "execution_count": 1,
   "metadata": {},
   "outputs": [
    {
     "ename": "KeyError",
     "evalue": "21",
     "output_type": "error",
     "traceback": [
      "\u001b[1;31m---------------------------------------------------------------------------\u001b[0m",
      "\u001b[1;31mKeyError\u001b[0m                                  Traceback (most recent call last)",
      "\u001b[1;32mc:\\Users\\maadi\\Python programming\\chumma.ipynb Cell 4\u001b[0m line \u001b[0;36m4\n\u001b[0;32m      <a href='vscode-notebook-cell:/c%3A/Users/maadi/Python%20programming/chumma.ipynb#W3sZmlsZQ%3D%3D?line=0'>1</a>\u001b[0m \u001b[39mdict\u001b[39m \u001b[39m=\u001b[39m {\n\u001b[0;32m      <a href='vscode-notebook-cell:/c%3A/Users/maadi/Python%20programming/chumma.ipynb#W3sZmlsZQ%3D%3D?line=1'>2</a>\u001b[0m     \u001b[39m'\u001b[39m\u001b[39mAadith\u001b[39m\u001b[39m'\u001b[39m : \u001b[39m21\u001b[39m\n\u001b[0;32m      <a href='vscode-notebook-cell:/c%3A/Users/maadi/Python%20programming/chumma.ipynb#W3sZmlsZQ%3D%3D?line=2'>3</a>\u001b[0m }\n\u001b[1;32m----> <a href='vscode-notebook-cell:/c%3A/Users/maadi/Python%20programming/chumma.ipynb#W3sZmlsZQ%3D%3D?line=3'>4</a>\u001b[0m \u001b[39mprint\u001b[39m(\u001b[39mdict\u001b[39;49m[\u001b[39m21\u001b[39;49m])\n",
      "\u001b[1;31mKeyError\u001b[0m: 21"
     ]
    }
   ],
   "source": [
    "dict = {\n",
    "    'Aadith' : 21\n",
    "}\n",
    "print(dict[21])"
   ]
  },
  {
   "cell_type": "code",
   "execution_count": null,
   "metadata": {},
   "outputs": [],
   "source": []
  }
 ],
 "metadata": {
  "kernelspec": {
   "display_name": "Python 3",
   "language": "python",
   "name": "python3"
  },
  "language_info": {
   "codemirror_mode": {
    "name": "ipython",
    "version": 3
   },
   "file_extension": ".py",
   "mimetype": "text/x-python",
   "name": "python",
   "nbconvert_exporter": "python",
   "pygments_lexer": "ipython3",
   "version": "3.11.0"
  }
 },
 "nbformat": 4,
 "nbformat_minor": 2
}
