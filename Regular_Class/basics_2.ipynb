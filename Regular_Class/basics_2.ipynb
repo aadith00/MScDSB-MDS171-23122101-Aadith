{
 "cells": [
  {
   "cell_type": "markdown",
   "metadata": {},
   "source": [
    "File Handling\n",
    "basically used to store data\n",
    "files can be opened for 3 functions-\n",
    "exclusively to read\n",
    "exclusively to write\n",
    "to append"
   ]
  },
  {
   "cell_type": "code",
   "execution_count": 24,
   "metadata": {},
   "outputs": [],
   "source": [
    "file = open(\"Sample.txt\",\"w+\")\n",
    "\n",
    "#If we use w+ the old content would not be kept but if we use a+ file would retain the old content and append the new content."
   ]
  },
  {
   "cell_type": "code",
   "execution_count": 29,
   "metadata": {},
   "outputs": [
    {
     "data": {
      "text/plain": [
       "31"
      ]
     },
     "execution_count": 29,
     "metadata": {},
     "output_type": "execute_result"
    }
   ],
   "source": [
    "#This function is used to add some statement into the file.\n",
    "\n",
    "file.write('This is my first line to file.\\n')"
   ]
  },
  {
   "cell_type": "code",
   "execution_count": 30,
   "metadata": {},
   "outputs": [],
   "source": [
    "#This function is used to save whatever modifications we have made in the file.\n",
    "file.close()"
   ]
  },
  {
   "cell_type": "code",
   "execution_count": 31,
   "metadata": {},
   "outputs": [
    {
     "data": {
      "text/plain": [
       "'This is my first line to file.\\n'"
      ]
     },
     "execution_count": 31,
     "metadata": {},
     "output_type": "execute_result"
    }
   ],
   "source": [
    "file = open('Sample.txt','r+')\n",
    "file.readline()"
   ]
  },
  {
   "cell_type": "code",
   "execution_count": 32,
   "metadata": {},
   "outputs": [
    {
     "data": {
      "text/plain": [
       "['This is my first line to file.\\n',\n",
       " 'This is my first line to file.\\n',\n",
       " 'This is my first line to file.\\n',\n",
       " 'This is my first line to file.\\n']"
      ]
     },
     "execution_count": 32,
     "metadata": {},
     "output_type": "execute_result"
    }
   ],
   "source": [
    "file.readlines()"
   ]
  },
  {
   "cell_type": "markdown",
   "metadata": {},
   "source": [
    "Questions: Write a function in python that accepts your details and save into file with your name."
   ]
  },
  {
   "cell_type": "code",
   "execution_count": 17,
   "metadata": {},
   "outputs": [
    {
     "ename": "FileNotFoundError",
     "evalue": "[Errno 2] No such file or directory: 'filename'",
     "output_type": "error",
     "traceback": [
      "\u001b[1;31m---------------------------------------------------------------------------\u001b[0m",
      "\u001b[1;31mFileNotFoundError\u001b[0m                         Traceback (most recent call last)",
      "Cell \u001b[1;32mIn[17], line 16\u001b[0m\n\u001b[0;32m     13\u001b[0m     file \u001b[39m=\u001b[39m \u001b[39mopen\u001b[39m(\u001b[39m'\u001b[39m\u001b[39mfilename\u001b[39m\u001b[39m'\u001b[39m, \u001b[39m'\u001b[39m\u001b[39mr+\u001b[39m\u001b[39m'\u001b[39m)\n\u001b[0;32m     14\u001b[0m     file\u001b[39m.\u001b[39mreadlines()\n\u001b[1;32m---> 16\u001b[0m entry(name,age)\n",
      "Cell \u001b[1;32mIn[17], line 13\u001b[0m, in \u001b[0;36mentry\u001b[1;34m(name, age)\u001b[0m\n\u001b[0;32m     10\u001b[0m file\u001b[39m.\u001b[39mwrite(\u001b[39m'\u001b[39m\u001b[39m\\n\u001b[39;00m\u001b[39mAge: \u001b[39m\u001b[39m'\u001b[39m \u001b[39m+\u001b[39m age)\n\u001b[0;32m     11\u001b[0m file\u001b[39m.\u001b[39mclose()\n\u001b[1;32m---> 13\u001b[0m file \u001b[39m=\u001b[39m \u001b[39mopen\u001b[39;49m(\u001b[39m'\u001b[39;49m\u001b[39mfilename\u001b[39;49m\u001b[39m'\u001b[39;49m, \u001b[39m'\u001b[39;49m\u001b[39mr+\u001b[39;49m\u001b[39m'\u001b[39;49m)\n\u001b[0;32m     14\u001b[0m file\u001b[39m.\u001b[39mreadlines()\n",
      "File \u001b[1;32m~\\AppData\\Roaming\\Python\\Python311\\site-packages\\IPython\\core\\interactiveshell.py:284\u001b[0m, in \u001b[0;36m_modified_open\u001b[1;34m(file, *args, **kwargs)\u001b[0m\n\u001b[0;32m    277\u001b[0m \u001b[39mif\u001b[39;00m file \u001b[39min\u001b[39;00m {\u001b[39m0\u001b[39m, \u001b[39m1\u001b[39m, \u001b[39m2\u001b[39m}:\n\u001b[0;32m    278\u001b[0m     \u001b[39mraise\u001b[39;00m \u001b[39mValueError\u001b[39;00m(\n\u001b[0;32m    279\u001b[0m         \u001b[39mf\u001b[39m\u001b[39m\"\u001b[39m\u001b[39mIPython won\u001b[39m\u001b[39m'\u001b[39m\u001b[39mt let you open fd=\u001b[39m\u001b[39m{\u001b[39;00mfile\u001b[39m}\u001b[39;00m\u001b[39m by default \u001b[39m\u001b[39m\"\u001b[39m\n\u001b[0;32m    280\u001b[0m         \u001b[39m\"\u001b[39m\u001b[39mas it is likely to crash IPython. If you know what you are doing, \u001b[39m\u001b[39m\"\u001b[39m\n\u001b[0;32m    281\u001b[0m         \u001b[39m\"\u001b[39m\u001b[39myou can use builtins\u001b[39m\u001b[39m'\u001b[39m\u001b[39m open.\u001b[39m\u001b[39m\"\u001b[39m\n\u001b[0;32m    282\u001b[0m     )\n\u001b[1;32m--> 284\u001b[0m \u001b[39mreturn\u001b[39;00m io_open(file, \u001b[39m*\u001b[39;49margs, \u001b[39m*\u001b[39;49m\u001b[39m*\u001b[39;49mkwargs)\n",
      "\u001b[1;31mFileNotFoundError\u001b[0m: [Errno 2] No such file or directory: 'filename'"
     ]
    }
   ],
   "source": [
    "def entry(name,age):\n",
    "    \n",
    "    name = str(input('Enter your name: '))\n",
    "    age = str(input('Enter your age: '))\n",
    "\n",
    "    filename = name + '.txt'\n",
    "\n",
    "    file = open(filename,'w+')   # with open(filename, 'w+') as file        this line of code can also be used to create a file\n",
    "    file.write('Name: ' + name)\n",
    "    file.write('\\nAge: ' + age)\n",
    "    file.close()\n",
    "\n",
    "    file = open(filename, 'r+')\n",
    "    file.readlines()\n",
    "\n",
    "entry()\n"
   ]
  },
  {
   "cell_type": "markdown",
   "metadata": {},
   "source": [
    "Write a python program that will take 2 operands and an operator and perform the calculation and gives the result. Also save the calculations in a file."
   ]
  },
  {
   "cell_type": "code",
   "execution_count": 23,
   "metadata": {},
   "outputs": [
    {
     "ename": "TypeError",
     "evalue": "calcu() missing 1 required positional argument: 'value'",
     "output_type": "error",
     "traceback": [
      "\u001b[1;31m---------------------------------------------------------------------------\u001b[0m",
      "\u001b[1;31mTypeError\u001b[0m                                 Traceback (most recent call last)",
      "Cell \u001b[1;32mIn[23], line 18\u001b[0m\n\u001b[0;32m     14\u001b[0m         \u001b[39mprint\u001b[39m(a\u001b[39m/\u001b[39mb)\n\u001b[0;32m     16\u001b[0m     \u001b[39mreturn\u001b[39;00m value\n\u001b[1;32m---> 18\u001b[0m calcu()\n",
      "\u001b[1;31mTypeError\u001b[0m: calcu() missing 1 required positional argument: 'value'"
     ]
    }
   ],
   "source": [
    "\n",
    "def calcu():\n",
    "       \n",
    "    a = int(input('Enter the first number: '))\n",
    "    b = int(input('Enter the next number: '))\n",
    "    operand = input('Enter the operand: ')\n",
    "\n",
    "    if operand == '+':\n",
    "        print(a+b)\n",
    "    elif operand == '-':\n",
    "        print(a-b)\n",
    "    elif operand == '*':\n",
    "        print(a*b)\n",
    "    else:\n",
    "        print(a/b)\n",
    "\n",
    "\n",
    "calcu()\n",
    "\n",
    "\n",
    "\n"
   ]
  },
  {
   "cell_type": "markdown",
   "metadata": {},
   "source": [
    "while, break, continue\n",
    "break will break out of the loop and continue will skip the current iteration"
   ]
  },
  {
   "cell_type": "code",
   "execution_count": 3,
   "metadata": {},
   "outputs": [
    {
     "name": "stdout",
     "output_type": "stream",
     "text": [
      "0 0\n",
      "1 1\n",
      "2 4\n",
      "3 9\n",
      "4 16\n",
      "5 25\n",
      "6 36\n"
     ]
    }
   ],
   "source": [
    "a = 0\n",
    "while a < 7:                      #If the conditin is kept true the code would run infinitely\n",
    "    res = a * a\n",
    "    print(a , res)\n",
    "    a = a + 1"
   ]
  },
  {
   "cell_type": "code",
   "execution_count": 6,
   "metadata": {},
   "outputs": [
    {
     "name": "stdout",
     "output_type": "stream",
     "text": [
      "poda\n",
      "poda\n",
      "poda\n",
      "poda\n",
      "poda\n",
      "poda\n",
      "poda\n",
      "poda\n"
     ]
    }
   ],
   "source": [
    "for i in range(1,10,1):\n",
    "    if i == 7:\n",
    "        break\n",
    "    print(\"poda\")"
   ]
  },
  {
   "cell_type": "code",
   "execution_count": 2,
   "metadata": {},
   "outputs": [
    {
     "name": "stdout",
     "output_type": "stream",
     "text": [
      "poda\n",
      "poda\n",
      "poda\n",
      "poda\n",
      "poda\n",
      "poda\n",
      "poda\n",
      "poda\n"
     ]
    }
   ],
   "source": [
    "for i in range(1,10,1):\n",
    "    if i == 7:\n",
    "        continue\n",
    "    else:\n",
    "        print(\"poda\")"
   ]
  },
  {
   "cell_type": "markdown",
   "metadata": {},
   "source": [
    "set is a similar data type to list"
   ]
  },
  {
   "cell_type": "code",
   "execution_count": 9,
   "metadata": {},
   "outputs": [
    {
     "name": "stdout",
     "output_type": "stream",
     "text": [
      "['ABC', 'ABC', 'ECD', 'GAVS', 'DBACSUW']\n",
      "{'ABC', 'GAVS', 'ECD', 'DBACSUW'}\n",
      "['ABC', 'GAVS', 'ECD', 'DBACSUW']\n"
     ]
    }
   ],
   "source": [
    "list_ex = ['ABC' , 'ABC' , 'ECD' , 'GAVS' , 'DBACSUW']\n",
    "set_ex = set(list_ex)\n",
    "back = list(set_ex)\n",
    "print(list_ex)\n",
    "print(set_ex)\n",
    "print(back)\n"
   ]
  },
  {
   "cell_type": "markdown",
   "metadata": {},
   "source": [
    "Create a list of names that are random and repeating identify the unique items and their count "
   ]
  },
  {
   "cell_type": "code",
   "execution_count": 20,
   "metadata": {},
   "outputs": [
    {
     "name": "stdout",
     "output_type": "stream",
     "text": [
      "['Aadith', 'Aadith', 'Repc', 'Repc', 'Devu', 'Devu', 'Gokul', 'Gokul', 'Sidharth', 'Sidharth']\n",
      "{'Repc', 'Aadith', 'Devu', 'Gokul', 'Sidharth'}\n",
      "Repc 2\n",
      "Aadith 2\n",
      "Devu 2\n",
      "Gokul 2\n",
      "Sidharth 2\n"
     ]
    }
   ],
   "source": [
    "names = []\n",
    "\n",
    "for i in range(0,10,1):\n",
    "    name = input('Enter a name: ')\n",
    "    names.append(name)\n",
    "\n",
    "print(names)\n",
    "\n",
    "unique = set(names)\n",
    "print(unique)\n",
    "\n",
    "for search in unique:\n",
    "    count = 0\n",
    "    for item in names:\n",
    "        if search == item:\n",
    "            count = count + 1\n",
    "    print(search,count)\n"
   ]
  }
 ],
 "metadata": {
  "kernelspec": {
   "display_name": "Python 3",
   "language": "python",
   "name": "python3"
  },
  "language_info": {
   "codemirror_mode": {
    "name": "ipython",
    "version": 3
   },
   "file_extension": ".py",
   "mimetype": "text/x-python",
   "name": "python",
   "nbconvert_exporter": "python",
   "pygments_lexer": "ipython3",
   "version": "3.11.0"
  },
  "orig_nbformat": 4
 },
 "nbformat": 4,
 "nbformat_minor": 2
}
