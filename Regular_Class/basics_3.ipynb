{
 "cells": [
  {
   "cell_type": "markdown",
   "metadata": {},
   "source": [
    "Dictionaries\n",
    "Values are stored in key-value pair\n",
    "Curly brackets are used"
   ]
  },
  {
   "cell_type": "code",
   "execution_count": 2,
   "metadata": {},
   "outputs": [],
   "source": [
    "my_dicti = {\n",
    "    'Name' : 'Aadith',\n",
    "    'Number' : 789456123,\n",
    "    'Age' : 21\n",
    "}"
   ]
  },
  {
   "cell_type": "code",
   "execution_count": 3,
   "metadata": {},
   "outputs": [
    {
     "name": "stdout",
     "output_type": "stream",
     "text": [
      "Aadith\n",
      "{'Name': 'Devu', 'Number': 789456123, 'Age': 21}\n"
     ]
    }
   ],
   "source": [
    "print(my_dicti['Name'])\n",
    "my_dicti['Name'] = 'Devu'\n",
    "print(my_dicti)"
   ]
  },
  {
   "cell_type": "code",
   "execution_count": 5,
   "metadata": {},
   "outputs": [
    {
     "name": "stdout",
     "output_type": "stream",
     "text": [
      "{'Name': 'Devu', 'Number': 789456123, 'Age': 21, 'Email': 'xyz@gmail.com'}\n"
     ]
    }
   ],
   "source": [
    "my_dicti['Email'] = 'xyz@gmail.com'\n",
    "print(my_dicti)"
   ]
  },
  {
   "cell_type": "code",
   "execution_count": 13,
   "metadata": {},
   "outputs": [
    {
     "name": "stdout",
     "output_type": "stream",
     "text": [
      "Name\n",
      "Number\n",
      "Age\n",
      "email\n",
      "Email\n"
     ]
    }
   ],
   "source": [
    "my_dicti.keys()\n",
    "my_dicti.values()\n",
    "for key in my_dicti:\n",
    "    print(key)"
   ]
  },
  {
   "cell_type": "code",
   "execution_count": 4,
   "metadata": {},
   "outputs": [
    {
     "name": "stdout",
     "output_type": "stream",
     "text": [
      "Aadith\n",
      "Devu\n",
      "Gokul\n",
      "Repc\n",
      "Sidharth\n"
     ]
    }
   ],
   "source": [
    "students = {\n",
    "    'Name' : ['Aadith', 'Devu', 'Gokul', 'Repc', 'Sidharth'],\n",
    "    'Roll No' : [1,2,3,4,5]\n",
    "}\n",
    "\n",
    "for name in students['Name']:\n",
    "    print(name)\n"
   ]
  },
  {
   "cell_type": "code",
   "execution_count": 30,
   "metadata": {},
   "outputs": [
    {
     "name": "stdout",
     "output_type": "stream",
     "text": [
      "{'Reg No': 23122101, 'Name': 'Aadith', 'Phone': 789456123}\n",
      "Reg No\n",
      "Name\n",
      "Phone\n",
      "{'Reg No': 23122113, 'Name': 'Devika', 'Phone': 123456789}\n",
      "Reg No\n",
      "Name\n",
      "Phone\n"
     ]
    }
   ],
   "source": [
    "msds = [\n",
    "    {\n",
    "        'Reg No' : 23122101,\n",
    "        'Name' : 'Aadith',\n",
    "        'Phone' : 789456123,\n",
    "    },\n",
    "\n",
    "    {\n",
    "        'Reg No' : 23122113,\n",
    "        'Name' : 'Devika',\n",
    "        'Phone' : 123456789,\n",
    "    },\n",
    "]\n",
    "\n",
    "for item in msds:\n",
    "    print(item)\n",
    "    for keys in item:\n",
    "        print(keys)"
   ]
  }
 ],
 "metadata": {
  "kernelspec": {
   "display_name": "Python 3",
   "language": "python",
   "name": "python3"
  },
  "language_info": {
   "codemirror_mode": {
    "name": "ipython",
    "version": 3
   },
   "file_extension": ".py",
   "mimetype": "text/x-python",
   "name": "python",
   "nbconvert_exporter": "python",
   "pygments_lexer": "ipython3",
   "version": "3.11.0"
  },
  "orig_nbformat": 4
 },
 "nbformat": 4,
 "nbformat_minor": 2
}
