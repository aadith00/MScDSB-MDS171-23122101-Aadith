{
 "cells": [
  {
   "cell_type": "code",
   "execution_count": 40,
   "metadata": {},
   "outputs": [
    {
     "name": "stdout",
     "output_type": "stream",
     "text": [
      "542.94\n",
      "17\n",
      "999\n",
      "982\n"
     ]
    }
   ],
   "source": [
    "list = [761, 123, 585, 275, 194, 840, 999, 622, 763, 40, 825, 687, 402, 338, 611, 987, 739, 95, 819, 568, 320, 126, 688, 948, 514, 223, 751, 379, 857, 767, 492, 162, 437, 934, 430, 343, 725, 511, 580, 678, 708, 823, 346, 179, 786, 663, 195, 890, 267, 502, 214, 300, 786, 961, 235, 559, 992, 919, 948, 318, 57, 787, 653, 317, 305, 172, 966, 182, 970, 17, 89, 624, 629, 595, 485, 752, 984, 978, 460, 124, 321, 256, 614, 852, 811, 561, 127, 207, 406, 615, 888, 391, 691, 470, 911, 401, 137, 600, 478, 682]\n",
    "\n",
    "count = 0\n",
    "for i in list:\n",
    "    if i != 0:\n",
    "        count = count + 1\n",
    "\n",
    "def mean(list):\n",
    "\n",
    "    #Code to find the mean\n",
    "    sum = 0\n",
    "    for item in list:\n",
    "        sum = sum + item\n",
    "    \n",
    "    mean = sum/count\n",
    "    print(mean)\n",
    "\n",
    "\n",
    "def minmax(list):\n",
    "\n",
    "    #Code to find the minimum and maximum\n",
    "    minimum = list[0]\n",
    "    maximum = list[0]\n",
    "\n",
    "    for item in list:\n",
    "        if item < minimum:\n",
    "            minimum = item\n",
    "        else:\n",
    "            next\n",
    "    print(minimum)\n",
    "\n",
    "    for item in list:\n",
    "        if item > maximum:\n",
    "            maximum  = item\n",
    "        else:\n",
    "            next\n",
    "    print(maximum)\n",
    "    range=maximum-minimum\n",
    "    print(range)\n",
    "\n",
    "\n",
    "\n",
    "\n",
    "mean(list)\n",
    "minmax(list)\n"
   ]
  },
  {
   "cell_type": "code",
   "execution_count": null,
   "metadata": {},
   "outputs": [],
   "source": []
  }
 ],
 "metadata": {
  "kernelspec": {
   "display_name": "Python 3",
   "language": "python",
   "name": "python3"
  },
  "language_info": {
   "codemirror_mode": {
    "name": "ipython",
    "version": 3
   },
   "file_extension": ".py",
   "mimetype": "text/x-python",
   "name": "python",
   "nbconvert_exporter": "python",
   "pygments_lexer": "ipython3",
   "version": "3.11.0"
  },
  "orig_nbformat": 4
 },
 "nbformat": 4,
 "nbformat_minor": 2
}
